{
 "cells": [
  {
   "cell_type": "code",
   "execution_count": 1,
   "id": "513a8ae4",
   "metadata": {},
   "outputs": [],
   "source": [
    "import pandas as pd\n",
    "\n",
    "from textblob import TextBlob\n",
    "from nltk.tokenize import word_tokenize\n",
    "from nltk.corpus import stopwords\n",
    "from nltk.stem.porter import PorterStemmer\n",
    "\n",
    "from sklearn.model_selection import train_test_split\n",
    "from sklearn.feature_extraction.text import TfidfVectorizer\n",
    "from sklearn.linear_model import LogisticRegression\n",
    "from sklearn.metrics import accuracy_score, recall_score, f1_score, precision_score, roc_curve, confusion_matrix\n",
    "\n",
    "import matplotlib.pyplot as plt"
   ]
  },
  {
   "cell_type": "markdown",
   "id": "a8a88203",
   "metadata": {},
   "source": [
    "# Loading in the data"
   ]
  },
  {
   "cell_type": "code",
   "execution_count": 2,
   "id": "19625001",
   "metadata": {},
   "outputs": [
    {
     "data": {
      "text/html": [
       "<div>\n",
       "<style scoped>\n",
       "    .dataframe tbody tr th:only-of-type {\n",
       "        vertical-align: middle;\n",
       "    }\n",
       "\n",
       "    .dataframe tbody tr th {\n",
       "        vertical-align: top;\n",
       "    }\n",
       "\n",
       "    .dataframe thead th {\n",
       "        text-align: right;\n",
       "    }\n",
       "</style>\n",
       "<table border=\"1\" class=\"dataframe\">\n",
       "  <thead>\n",
       "    <tr style=\"text-align: right;\">\n",
       "      <th></th>\n",
       "      <th>id</th>\n",
       "      <th>sentiment</th>\n",
       "      <th>review</th>\n",
       "    </tr>\n",
       "  </thead>\n",
       "  <tbody>\n",
       "    <tr>\n",
       "      <th>0</th>\n",
       "      <td>5814_8</td>\n",
       "      <td>1</td>\n",
       "      <td>With all this stuff going down at the moment w...</td>\n",
       "    </tr>\n",
       "    <tr>\n",
       "      <th>1</th>\n",
       "      <td>2381_9</td>\n",
       "      <td>1</td>\n",
       "      <td>\\The Classic War of the Worlds\\\" by Timothy Hi...</td>\n",
       "    </tr>\n",
       "    <tr>\n",
       "      <th>2</th>\n",
       "      <td>7759_3</td>\n",
       "      <td>0</td>\n",
       "      <td>The film starts with a manager (Nicholas Bell)...</td>\n",
       "    </tr>\n",
       "    <tr>\n",
       "      <th>3</th>\n",
       "      <td>3630_4</td>\n",
       "      <td>0</td>\n",
       "      <td>It must be assumed that those who praised this...</td>\n",
       "    </tr>\n",
       "    <tr>\n",
       "      <th>4</th>\n",
       "      <td>9495_8</td>\n",
       "      <td>1</td>\n",
       "      <td>Superbly trashy and wondrously unpretentious 8...</td>\n",
       "    </tr>\n",
       "  </tbody>\n",
       "</table>\n",
       "</div>"
      ],
      "text/plain": [
       "       id  sentiment                                             review\n",
       "0  5814_8          1  With all this stuff going down at the moment w...\n",
       "1  2381_9          1  \\The Classic War of the Worlds\\\" by Timothy Hi...\n",
       "2  7759_3          0  The film starts with a manager (Nicholas Bell)...\n",
       "3  3630_4          0  It must be assumed that those who praised this...\n",
       "4  9495_8          1  Superbly trashy and wondrously unpretentious 8..."
      ]
     },
     "execution_count": 2,
     "metadata": {},
     "output_type": "execute_result"
    }
   ],
   "source": [
    "# Import tsv file\n",
    "text_df = pd.read_csv('labeledTrainData.tsv', sep='\\t')\n",
    "text_df.head()"
   ]
  },
  {
   "cell_type": "markdown",
   "id": "46e39418",
   "metadata": {},
   "source": [
    "# Determining Polarity Score and Assigning a Category"
   ]
  },
  {
   "cell_type": "code",
   "execution_count": 3,
   "id": "02e08137",
   "metadata": {},
   "outputs": [],
   "source": [
    "# Function created to calculate polarity of each review\n",
    "def detect_polarity(text):\n",
    "    return TextBlob(text).sentiment.polarity\n",
    "\n",
    "# Interpreting the polarity score and assigning Negative or Positive\n",
    "def getAnalysis(polarity):\n",
    "    if polarity < 0:\n",
    "        return 'Negative'\n",
    "    else:\n",
    "        return 'Positive'"
   ]
  },
  {
   "cell_type": "code",
   "execution_count": 4,
   "id": "a6590a7a",
   "metadata": {},
   "outputs": [],
   "source": [
    "# Applying the following functions and assigning results to a new column\n",
    "text_df['Polarity'] = text_df['review'].apply(detect_polarity)\n",
    "text_df['Analysis'] = text_df['Polarity'].apply(getAnalysis)"
   ]
  },
  {
   "cell_type": "code",
   "execution_count": 5,
   "id": "c86dee2f",
   "metadata": {
    "scrolled": true
   },
   "outputs": [
    {
     "data": {
      "text/html": [
       "<div>\n",
       "<style scoped>\n",
       "    .dataframe tbody tr th:only-of-type {\n",
       "        vertical-align: middle;\n",
       "    }\n",
       "\n",
       "    .dataframe tbody tr th {\n",
       "        vertical-align: top;\n",
       "    }\n",
       "\n",
       "    .dataframe thead th {\n",
       "        text-align: right;\n",
       "    }\n",
       "</style>\n",
       "<table border=\"1\" class=\"dataframe\">\n",
       "  <thead>\n",
       "    <tr style=\"text-align: right;\">\n",
       "      <th></th>\n",
       "      <th>id</th>\n",
       "      <th>sentiment</th>\n",
       "      <th>review</th>\n",
       "      <th>Polarity</th>\n",
       "      <th>Analysis</th>\n",
       "    </tr>\n",
       "  </thead>\n",
       "  <tbody>\n",
       "    <tr>\n",
       "      <th>0</th>\n",
       "      <td>5814_8</td>\n",
       "      <td>1</td>\n",
       "      <td>With all this stuff going down at the moment w...</td>\n",
       "      <td>0.001277</td>\n",
       "      <td>Positive</td>\n",
       "    </tr>\n",
       "    <tr>\n",
       "      <th>1</th>\n",
       "      <td>2381_9</td>\n",
       "      <td>1</td>\n",
       "      <td>\\The Classic War of the Worlds\\\" by Timothy Hi...</td>\n",
       "      <td>0.256349</td>\n",
       "      <td>Positive</td>\n",
       "    </tr>\n",
       "  </tbody>\n",
       "</table>\n",
       "</div>"
      ],
      "text/plain": [
       "       id  sentiment                                             review  \\\n",
       "0  5814_8          1  With all this stuff going down at the moment w...   \n",
       "1  2381_9          1  \\The Classic War of the Worlds\\\" by Timothy Hi...   \n",
       "\n",
       "   Polarity  Analysis  \n",
       "0  0.001277  Positive  \n",
       "1  0.256349  Positive  "
      ]
     },
     "execution_count": 5,
     "metadata": {},
     "output_type": "execute_result"
    }
   ],
   "source": [
    "text_df.head(2)"
   ]
  },
  {
   "cell_type": "code",
   "execution_count": 6,
   "id": "698ec220",
   "metadata": {},
   "outputs": [
    {
     "data": {
      "image/png": "[encoded data removed]",
      "text/plain": [
       "<Figure size 640x480 with 1 Axes>"
      ]
     },
     "metadata": {},
     "output_type": "display_data"
    }
   ],
   "source": [
    "# Visualizing the number of positive sentiments vs the calculated analysis\n",
    "plt.bar('Sentiment', text_df['sentiment'].sum(), color='green')\n",
    "plt.bar('Analysis', len(text_df[text_df['Analysis']=='Positive']), color='blue')\n",
    "\n",
    "plt.title('Sentiment vs Calculated')\n",
    "plt.ylabel('Count')\n",
    "plt.show()"
   ]
  },
  {
   "cell_type": "markdown",
   "id": "a1706517",
   "metadata": {},
   "source": [
    "# Cleaning/Preparing the Reviews"
   ]
  },
  {
   "cell_type": "code",
   "execution_count": 7,
   "id": "b9321bda",
   "metadata": {
    "scrolled": false
   },
   "outputs": [],
   "source": [
    "# [^\\w\\s] = Match anything that is not alphanumeric or a white space\n",
    "# Applying a lowercased function to all contents of the variable and removing anything that is not alphanumeric or a space\n",
    "removed_punc  = text_df['review'].str.replace('[^\\w\\s]', '', regex=True)"
   ]
  },
  {
   "cell_type": "code",
   "execution_count": 8,
   "id": "71d0a3bd",
   "metadata": {
    "scrolled": true
   },
   "outputs": [],
   "source": [
    "# Tokenizing data to easily remove punctuations\n",
    "tokenized = removed_punc.apply(lambda x:word_tokenize(x))"
   ]
  },
  {
   "cell_type": "code",
   "execution_count": 9,
   "id": "34104567",
   "metadata": {
    "scrolled": true
   },
   "outputs": [],
   "source": [
    "# Outlining the stop word language\n",
    "stop_words = stopwords.words('english')\n",
    "\n",
    "# Creating a function to iterate over each word in the respective row to remove stop words\n",
    "def remove_stop(text):\n",
    "    return [s_word for s_word in text if s_word not in stop_words]\n",
    "\n",
    "# Applying the stop word remover function\n",
    "no_stop_words = tokenized.apply(lambda x : remove_stop(x))"
   ]
  },
  {
   "cell_type": "code",
   "execution_count": 10,
   "id": "76638c19",
   "metadata": {
    "scrolled": true
   },
   "outputs": [],
   "source": [
    "# Creating a PorterStemmer instance\n",
    "porter = PorterStemmer()\n",
    "\n",
    "# Function responsible for iterating through each word and stripping the suffix \n",
    "def porter_words(text):\n",
    "    return [porter.stem(word)for word in text]\n",
    "\n",
    "# In line function to loop over each row and apply the porter_words function\n",
    "stemmed_words = no_stop_words.apply(lambda x: porter_words(x))"
   ]
  },
  {
   "cell_type": "code",
   "execution_count": 11,
   "id": "5a7c26c1",
   "metadata": {},
   "outputs": [],
   "source": [
    "# Joining the words per row back together\n",
    "re_join = stemmed_words.apply(lambda x: ' '.join(x))"
   ]
  },
  {
   "cell_type": "markdown",
   "id": "bc2e5d68",
   "metadata": {},
   "source": [
    "# Preparing the Data for Modeling"
   ]
  },
  {
   "cell_type": "code",
   "execution_count": 12,
   "id": "21938041",
   "metadata": {},
   "outputs": [
    {
     "name": "stdout",
     "output_type": "stream",
     "text": [
      "(20000,) (5000,) (20000,) (5000,)\n"
     ]
    }
   ],
   "source": [
    "sentiment_target = text_df['sentiment']\n",
    "\n",
    "X_train, X_test, y_train, y_test = train_test_split(re_join, sentiment_target, test_size=0.2, random_state=20)\n",
    "print(X_train.shape, X_test.shape, y_train.shape, y_test.shape)"
   ]
  },
  {
   "cell_type": "code",
   "execution_count": 13,
   "id": "bfa0475c",
   "metadata": {
    "scrolled": true
   },
   "outputs": [],
   "source": [
    "# Creating a TfidfVectorizer instance\n",
    "tfidf = TfidfVectorizer(lowercase=False)\n",
    "\n",
    "# Fitting the training data to the vectorizer (this is taking the text and converting it into a value)\n",
    "feature_matrix = tfidf.fit_transform(X_train)\n",
    "\n",
    "# Transforming the testing data to the vectorizer\n",
    "test_matrix = tfidf.transform(X_test)"
   ]
  },
  {
   "cell_type": "markdown",
   "id": "c4d80bf9",
   "metadata": {},
   "source": [
    "# Logistic Regression"
   ]
  },
  {
   "cell_type": "code",
   "execution_count": 14,
   "id": "4d5fd5e1",
   "metadata": {},
   "outputs": [],
   "source": [
    "# Creating a Logistic Regression instance\n",
    "logistic_regression = LogisticRegression().fit(feature_matrix, y_train)\n",
    "y_pred = logistic_regression.predict(test_matrix)"
   ]
  },
  {
   "cell_type": "markdown",
   "id": "4d5c5322",
   "metadata": {},
   "source": [
    "# Metrics"
   ]
  },
  {
   "cell_type": "code",
   "execution_count": 15,
   "id": "9f6f834c",
   "metadata": {},
   "outputs": [
    {
     "data": {
      "text/plain": [
       "array([[2188,  259],\n",
       "       [ 333, 2220]], dtype=int64)"
      ]
     },
     "execution_count": 15,
     "metadata": {},
     "output_type": "execute_result"
    }
   ],
   "source": [
    "confusion_matrix(y_pred, y_test)"
   ]
  },
  {
   "cell_type": "code",
   "execution_count": 16,
   "id": "c8606ea3",
   "metadata": {},
   "outputs": [
    {
     "name": "stdout",
     "output_type": "stream",
     "text": [
      "Accuracy:  88.0 %\n",
      "Precision: 90.0 %\n",
      "Recall: 87.0 %\n",
      "F1 Score: 88.0 %\n"
     ]
    }
   ],
   "source": [
    "accuracy = round(accuracy_score(y_pred, y_test),2)*100\n",
    "precision = round(precision_score(y_pred, y_test),2)*100\n",
    "recall = round(recall_score(y_pred, y_test),2)*100\n",
    "f1 = round(f1_score(y_pred, y_test),2)*100\n",
    "\n",
    "print(f'Accuracy:  {accuracy} %\\nPrecision: {precision} %\\nRecall: {recall} %\\nF1 Score: {f1} %')"
   ]
  },
  {
   "cell_type": "markdown",
   "id": "97d1a316",
   "metadata": {},
   "source": [
    "## Creating an ROC Curve "
   ]
  },
  {
   "cell_type": "code",
   "execution_count": 17,
   "id": "0dd4508c",
   "metadata": {},
   "outputs": [],
   "source": [
    "# Getting the predicted probability of getting a positive or negative review (0 or 1)\n",
    "pred_prob = logistic_regression.predict_proba(test_matrix)\n",
    "\n",
    "# Selecting only the probabilities for getting a positive result\n",
    "pos_prob = pred_prob[:,1]"
   ]
  },
  {
   "cell_type": "code",
   "execution_count": 18,
   "id": "a58b99ec",
   "metadata": {
    "scrolled": false
   },
   "outputs": [
    {
     "data": {
      "image/png": "[encoded data removed]",
      "text/plain": [
       "<Figure size 640x480 with 1 Axes>"
      ]
     },
     "metadata": {},
     "output_type": "display_data"
    }
   ],
   "source": [
    "# Plotting the ROC curve\n",
    "fpr, tpr, threshold = roc_curve(y_test, pos_prob)\n",
    "\n",
    "plt.plot(fpr, tpr)\n",
    "plt.title('Logistic Regression ROC')\n",
    "plt.xlabel('False Positive Rate')\n",
    "plt.ylabel('True Positive Rate')\n",
    "plt.show()"
   ]
  }
 ],
 "metadata": {
  "kernelspec": {
   "display_name": "Python 3 (ipykernel)",
   "language": "python",
   "name": "python3"
  },
  "language_info": {
   "codemirror_mode": {
    "name": "ipython",
    "version": 3
   },
   "file_extension": ".py",
   "mimetype": "text/x-python",
   "name": "python",
   "nbconvert_exporter": "python",
   "pygments_lexer": "ipython3",
   "version": "3.11.4"
  }
 },
 "nbformat": 4,
 "nbformat_minor": 5
}
